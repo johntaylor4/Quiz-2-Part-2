{
 "cells": [
  {
   "cell_type": "markdown",
   "metadata": {
    "deletable": false,
    "editable": false,
    "nbgrader": {
     "cell_type": "markdown",
     "checksum": "3ae60d8488a454d89353db8bd2071250",
     "grade": false,
     "grade_id": "cell-cabdf5cea7b136be",
     "locked": true,
     "schema_version": 3,
     "solution": false,
     "task": false
    }
   },
   "source": [
    "## 1) List TEN things you learned during Weeks 1 and 2 and FIVE things you still don't understand or are curious and would like to learn about."
   ]
  },
  {
   "cell_type": "markdown",
   "metadata": {
    "deletable": false,
    "nbgrader": {
     "cell_type": "markdown",
     "checksum": "faee3e76a259f593a478873edcec0aad",
     "grade": true,
     "grade_id": "cell-366439092328d2bb",
     "locked": false,
     "points": 0,
     "schema_version": 3,
     "solution": true,
     "task": false
    }
   },
   "source": [
    "YOUR ANSWER HERE"
   ]
  },
  {
   "cell_type": "markdown",
   "metadata": {
    "deletable": false,
    "editable": false,
    "nbgrader": {
     "cell_type": "markdown",
     "checksum": "4589e6b9f93156eb4a7e7e00278dfaf3",
     "grade": false,
     "grade_id": "cell-04d8eda4f953fdd1",
     "locked": true,
     "schema_version": 3,
     "solution": false,
     "task": false
    }
   },
   "source": [
    "# Fibonacci Numbers\n",
    "- What are Fibonacci numbers?\n",
    "- Give examples supporting the statement *Fibonacci numbers are abundant in nature*. \n",
    "- Write a program that outputs a vector containing the first 40 Fibonacci numbers $$F_{n+2}=F_n+F_{n+1}, F_1=0, F_2=1.$$\n",
    "- What is the Golden ratio?\n",
    "- What's the relationship between the Golden Ratio and Fibonacci numbers.\n",
    "- Write a program that outputs a sequence converging to the Golden Ratio.\n",
    "- Is there an explicit formula for the Fibonacci sequence? ($a_n=f(n)$)"
   ]
  },
  {
   "cell_type": "markdown",
   "metadata": {
    "deletable": false,
    "nbgrader": {
     "cell_type": "markdown",
     "checksum": "4144b895ed39f4714763831e2fa857b5",
     "grade": true,
     "grade_id": "cell-301f4a75dcca88b2",
     "locked": false,
     "points": 0,
     "schema_version": 3,
     "solution": true,
     "task": false
    }
   },
   "source": [
    "YOUR ANSWER HERE"
   ]
  },
  {
   "cell_type": "code",
   "execution_count": null,
   "metadata": {
    "deletable": false,
    "nbgrader": {
     "cell_type": "code",
     "checksum": "a90b54acdd44d2b61a2de82adac73446",
     "grade": true,
     "grade_id": "cell-ce5b5bba1201bbd3",
     "locked": false,
     "points": 0,
     "schema_version": 3,
     "solution": true,
     "task": false
    }
   },
   "outputs": [],
   "source": [
    "# YOUR CODE HERE\n",
    "raise NotImplementedError()"
   ]
  },
  {
   "cell_type": "markdown",
   "metadata": {
    "deletable": false,
    "editable": false,
    "nbgrader": {
     "cell_type": "markdown",
     "checksum": "2bb2949288c0458ac28f2a13a94b9bb8",
     "grade": false,
     "grade_id": "cell-d0a26c4610b14750",
     "locked": true,
     "schema_version": 3,
     "solution": false,
     "task": false
    }
   },
   "source": [
    "# Consider the series \n",
    "$$\\sum_{n=1}^\\infty\\frac{1}{\\sqrt{n}}$$\n",
    "1. Is the above series convergent or divergent? Explain.\n",
    "2. Use an integral bound in order to quantify how fast the series converges/diverges in terms of $n$.\n",
    "3. Write a program that outputs the number of terms that you have to add up from the series in order to exceed the number $20$. Comment on the speed of convergence/divergence of the series."
   ]
  },
  {
   "cell_type": "markdown",
   "metadata": {
    "deletable": false,
    "nbgrader": {
     "cell_type": "markdown",
     "checksum": "6790425fb72c79b7c008b6dfc38c210d",
     "grade": true,
     "grade_id": "cell-2a24654b949d24f3",
     "locked": false,
     "points": 0,
     "schema_version": 3,
     "solution": true,
     "task": false
    }
   },
   "source": [
    "YOUR ANSWER HERE"
   ]
  },
  {
   "cell_type": "code",
   "execution_count": null,
   "metadata": {
    "deletable": false,
    "nbgrader": {
     "cell_type": "code",
     "checksum": "cf7e2340eaa838063a8292ab9add522e",
     "grade": true,
     "grade_id": "cell-bb198abf4ef8c4fb",
     "locked": false,
     "points": 0,
     "schema_version": 3,
     "solution": true,
     "task": false
    }
   },
   "outputs": [],
   "source": [
    "# YOUR CODE HERE\n",
    "raise NotImplementedError()"
   ]
  },
  {
   "cell_type": "markdown",
   "metadata": {
    "deletable": false,
    "editable": false,
    "nbgrader": {
     "cell_type": "markdown",
     "checksum": "b1dab35ac60b6602e768fff02df4f083",
     "grade": false,
     "grade_id": "cell-84fe8dfe96362bf6",
     "locked": true,
     "schema_version": 3,
     "solution": false,
     "task": false
    }
   },
   "source": [
    "# Prove analytically that the series $\\sum_{n=1}^\\infty\\frac{1}{n^6}=\\frac{\\pi^6}{945}$ converges like a power law and find the power (hint: use an integral error bound.) Programming: Verify your result numerically (make a log-log plot for the error sequence and find the slope of the line. Does it match your analytical result?)."
   ]
  },
  {
   "cell_type": "markdown",
   "metadata": {
    "deletable": false,
    "nbgrader": {
     "cell_type": "markdown",
     "checksum": "6a32e578a5451f5fa045cdf28e6fadc9",
     "grade": true,
     "grade_id": "cell-8e0c1a66140e68f4",
     "locked": false,
     "points": 0,
     "schema_version": 3,
     "solution": true,
     "task": false
    }
   },
   "source": [
    "YOUR ANSWER HERE"
   ]
  },
  {
   "cell_type": "code",
   "execution_count": null,
   "metadata": {
    "deletable": false,
    "nbgrader": {
     "cell_type": "code",
     "checksum": "a2bf1d7ff4770e2d388c46407cf43e63",
     "grade": true,
     "grade_id": "cell-f71fea7ec9719ed6",
     "locked": false,
     "points": 0,
     "schema_version": 3,
     "solution": true,
     "task": false
    }
   },
   "outputs": [],
   "source": [
    "# YOUR CODE HERE\n",
    "raise NotImplementedError()"
   ]
  },
  {
   "cell_type": "markdown",
   "metadata": {
    "deletable": false,
    "editable": false,
    "nbgrader": {
     "cell_type": "markdown",
     "checksum": "cc429af0187cfe8ef65b5672984eee76",
     "grade": false,
     "grade_id": "cell-0ec05a8cc7613ecd",
     "locked": true,
     "schema_version": 3,
     "solution": false,
     "task": false
    }
   },
   "source": [
    "# Alternating series: Decide analytically how many terms of the series $\\sum_{n=1}^\\infty \\frac{(-1)^{n+1}}{\\sqrt{n}}$ will have to be used to be sure the estimate to the sum is accurate to within $0.005$."
   ]
  },
  {
   "cell_type": "markdown",
   "metadata": {
    "deletable": false,
    "nbgrader": {
     "cell_type": "markdown",
     "checksum": "88c45168dfed7a5a87d143fdb6d58b16",
     "grade": true,
     "grade_id": "cell-9296bb709c7ed934",
     "locked": false,
     "points": 0,
     "schema_version": 3,
     "solution": true,
     "task": false
    }
   },
   "source": [
    "YOUR ANSWER HERE"
   ]
  },
  {
   "cell_type": "markdown",
   "metadata": {
    "deletable": false,
    "editable": false,
    "nbgrader": {
     "cell_type": "markdown",
     "checksum": "f9498f0cf7d64db033d5745c4925f602",
     "grade": false,
     "grade_id": "cell-c881e2f20a151fa2",
     "locked": true,
     "schema_version": 3,
     "solution": false,
     "task": false
    }
   },
   "source": [
    "# Alternating series: Compute analytically how many terms you would need to use to calculate $\\sum_{n=1}^\\infty\\frac{(-1)^{n+1}}{n^2}$ to within $0.0005$ accuracy. Do you know the limit of this series? Does this series converge like a power law, or some other law? If yes, what is the power?"
   ]
  },
  {
   "cell_type": "markdown",
   "metadata": {
    "deletable": false,
    "nbgrader": {
     "cell_type": "markdown",
     "checksum": "8b4af95a95f5e1c3b11b2a434abea045",
     "grade": true,
     "grade_id": "cell-690e23dbc3cf4f78",
     "locked": false,
     "points": 0,
     "schema_version": 3,
     "solution": true,
     "task": false
    }
   },
   "source": [
    "YOUR ANSWER HERE"
   ]
  }
 ],
 "metadata": {
  "kernelspec": {
   "display_name": "Python 3 (ipykernel)",
   "language": "python",
   "name": "python3"
  },
  "language_info": {
   "codemirror_mode": {
    "name": "ipython",
    "version": 3
   },
   "file_extension": ".py",
   "mimetype": "text/x-python",
   "name": "python",
   "nbconvert_exporter": "python",
   "pygments_lexer": "ipython3",
   "version": "3.9.12"
  }
 },
 "nbformat": 4,
 "nbformat_minor": 4
}
